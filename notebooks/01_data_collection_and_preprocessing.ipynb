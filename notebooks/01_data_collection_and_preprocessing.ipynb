{
 "cells": [
  {
   "cell_type": "markdown",
   "id": "d63a43dd",
   "metadata": {},
   "source": [
    "---\n",
    "More information about the **iris flower dataset** can be found on [Wikipedia](https://en.wikipedia.org/wiki/Iris_flower_data_set)\n",
    "\n"
   ]
  },
  {
   "cell_type": "code",
   "execution_count": 1,
   "id": "dc159e35",
   "metadata": {},
   "outputs": [
    {
     "data": {
      "text/html": [
       "<img src=\"https://www.tensorflow.org/images/iris_three_species.jpg\"/>"
      ],
      "text/plain": [
       "<IPython.core.display.Image object>"
      ]
     },
     "execution_count": 1,
     "metadata": {},
     "output_type": "execute_result"
    }
   ],
   "source": [
    "from IPython.display import Image\n",
    "Image(url='https://www.tensorflow.org/images/iris_three_species.jpg')"
   ]
  },
  {
   "cell_type": "markdown",
   "id": "4be827f1",
   "metadata": {},
   "source": [
    "From left to right, Iris setosa (by Radomil, CC BY-SA 3.0), Iris versicolor (by Dlanglois, CC BY-SA 3.0), and Iris virginica (by Frank Mayfield, CC BY-SA 2.0). (Image was taken from tensorflow website)\n",
    "\n",
    ">h/t to this [github gist](https://gist.github.com/rabiulcste/33d985ab55820353181f9727a9496a81)\n",
    "\n",
    "---"
   ]
  },
  {
   "cell_type": "markdown",
   "id": "d6984191",
   "metadata": {},
   "source": [
    "## 1. Data Collection and Preprocessing\n",
    "----\n",
    "\n",
    "### **Step 1: Import Libraries**\n"
   ]
  },
  {
   "cell_type": "code",
   "execution_count": 2,
   "id": "513a8fa4",
   "metadata": {},
   "outputs": [],
   "source": [
    "import pandas as pd\n",
    "import numpy as np\n",
    "import seaborn as sns\n",
    "import matplotlib.pyplot as plt\n",
    "\n",
    "# Suppress FutureWarnings\n",
    "import warnings\n",
    "warnings.filterwarnings('ignore', category=FutureWarning)\n",
    "\n",
    "from sklearn.preprocessing import StandardScaler\n",
    "from sklearn.preprocessing import LabelEncoder\n",
    "from sklearn.model_selection import train_test_split\n",
    "\n",
    "from sklearn.linear_model import LogisticRegression\n",
    "from sklearn.neighbors import KNeighborsClassifier\n",
    "from sklearn.tree import DecisionTreeClassifier\n",
    "from sklearn.ensemble import RandomForestClassifier\n",
    "from sklearn.svm import SVC\n",
    "from sklearn.metrics import accuracy_score, classification_report\n",
    "from sklearn.metrics import confusion_matrix\n",
    "from sklearn.model_selection import GridSearchCV\n",
    "import joblib\n",
    "\n",
    "from sklearn.pipeline import Pipeline\n"
   ]
  },
  {
   "cell_type": "code",
   "execution_count": 3,
   "id": "b723d9a7",
   "metadata": {},
   "outputs": [
    {
     "name": "stdout",
     "output_type": "stream",
     "text": [
      "0.24.1\n"
     ]
    }
   ],
   "source": [
    "import sklearn\n",
    "print(sklearn.__version__)"
   ]
  },
  {
   "cell_type": "code",
   "execution_count": 4,
   "id": "a003d67c",
   "metadata": {
    "scrolled": true
   },
   "outputs": [],
   "source": [
    "# !pip install --upgrade scikit-learn"
   ]
  },
  {
   "cell_type": "code",
   "execution_count": 5,
   "id": "63d30ec8",
   "metadata": {},
   "outputs": [],
   "source": [
    "# !pip install --force-reinstall scikit-learn==1.5.2"
   ]
  },
  {
   "cell_type": "code",
   "execution_count": 6,
   "id": "19ef4b7e",
   "metadata": {},
   "outputs": [
    {
     "name": "stdout",
     "output_type": "stream",
     "text": [
      "0.24.1\n"
     ]
    }
   ],
   "source": [
    "print(sklearn.__version__)"
   ]
  },
  {
   "cell_type": "code",
   "execution_count": 7,
   "id": "523c80cf",
   "metadata": {},
   "outputs": [
    {
     "name": "stdout",
     "output_type": "stream",
     "text": [
      "/Users/CEO/anaconda3/envs/py36/bin/python\n"
     ]
    }
   ],
   "source": [
    "import sys\n",
    "print(sys.executable)"
   ]
  },
  {
   "cell_type": "markdown",
   "id": "8ef815d2",
   "metadata": {},
   "source": [
    "---\n",
    "### **Step 2: Initial Data Exploration**\n",
    "\n",
    "1. **Load and Inspect the Data**:\n",
    "   - Load the Iris dataset and display basic information to get an overview.\n",
    "\n",
    "   ```python\n",
    "   import pandas as pd\n",
    "   data = pd.read_csv('path_to_iris_dataset.csv')\n",
    "   data.head()\n",
    "   data.info()\n",
    "   data.describe()\n",
    "   ```\n",
    "\n",
    "2. **Explore the Features and Target Classes**:\n",
    "   - The Iris dataset has four features (sepal length, sepal width, petal length, petal width) and a target column (`Species`).\n",
    "   - Check unique values in the target column to see the classes (`setosa`, `versicolor`, `virginica`).\n",
    "\n",
    "   ```python\n",
    "   print(data['Species'].unique())\n",
    "   ```\n",
    "\n",
    "3. **Visualize Relationships**:\n",
    "   - Plot feature distributions by species using pair plots to see how the features relate to each other and the target.\n",
    "\n",
    "   ```python\n",
    "   import seaborn as sns\n",
    "   import matplotlib.pyplot as plt\n",
    "\n",
    "   sns.pairplot(data, hue=\"Species\", markers=[\"o\", \"s\", \"D\"])\n",
    "   plt.show()\n",
    "   ```\n",
    "\n",
    "   This visualization will reveal which features are more separable among species.\n",
    "   "
   ]
  },
  {
   "cell_type": "code",
   "execution_count": 8,
   "id": "f61340f9",
   "metadata": {
    "scrolled": true
   },
   "outputs": [],
   "source": [
    "csv_url = 'https://archive.ics.uci.edu/ml/machine-learning-databases/iris/iris.data'\n",
    "# using the attribute information as the column names\n",
    "col_names = ['SepalLengthCm', 'SepalWidthCm', 'PetalLengthCm', 'PetalWidthCm', 'Species']\n",
    "iris_data =  pd.read_csv(csv_url, names = col_names)"
   ]
  },
  {
   "cell_type": "code",
   "execution_count": 9,
   "id": "c33571be",
   "metadata": {},
   "outputs": [
    {
     "data": {
      "text/html": [
       "<div>\n",
       "<style scoped>\n",
       "    .dataframe tbody tr th:only-of-type {\n",
       "        vertical-align: middle;\n",
       "    }\n",
       "\n",
       "    .dataframe tbody tr th {\n",
       "        vertical-align: top;\n",
       "    }\n",
       "\n",
       "    .dataframe thead th {\n",
       "        text-align: right;\n",
       "    }\n",
       "</style>\n",
       "<table border=\"1\" class=\"dataframe\">\n",
       "  <thead>\n",
       "    <tr style=\"text-align: right;\">\n",
       "      <th></th>\n",
       "      <th>SepalLengthCm</th>\n",
       "      <th>SepalWidthCm</th>\n",
       "      <th>PetalLengthCm</th>\n",
       "      <th>PetalWidthCm</th>\n",
       "      <th>Species</th>\n",
       "    </tr>\n",
       "  </thead>\n",
       "  <tbody>\n",
       "    <tr>\n",
       "      <th>0</th>\n",
       "      <td>5.1</td>\n",
       "      <td>3.5</td>\n",
       "      <td>1.4</td>\n",
       "      <td>0.2</td>\n",
       "      <td>Iris-setosa</td>\n",
       "    </tr>\n",
       "    <tr>\n",
       "      <th>1</th>\n",
       "      <td>4.9</td>\n",
       "      <td>3.0</td>\n",
       "      <td>1.4</td>\n",
       "      <td>0.2</td>\n",
       "      <td>Iris-setosa</td>\n",
       "    </tr>\n",
       "    <tr>\n",
       "      <th>2</th>\n",
       "      <td>4.7</td>\n",
       "      <td>3.2</td>\n",
       "      <td>1.3</td>\n",
       "      <td>0.2</td>\n",
       "      <td>Iris-setosa</td>\n",
       "    </tr>\n",
       "    <tr>\n",
       "      <th>3</th>\n",
       "      <td>4.6</td>\n",
       "      <td>3.1</td>\n",
       "      <td>1.5</td>\n",
       "      <td>0.2</td>\n",
       "      <td>Iris-setosa</td>\n",
       "    </tr>\n",
       "    <tr>\n",
       "      <th>4</th>\n",
       "      <td>5.0</td>\n",
       "      <td>3.6</td>\n",
       "      <td>1.4</td>\n",
       "      <td>0.2</td>\n",
       "      <td>Iris-setosa</td>\n",
       "    </tr>\n",
       "  </tbody>\n",
       "</table>\n",
       "</div>"
      ],
      "text/plain": [
       "   SepalLengthCm  SepalWidthCm  PetalLengthCm  PetalWidthCm      Species\n",
       "0            5.1           3.5            1.4           0.2  Iris-setosa\n",
       "1            4.9           3.0            1.4           0.2  Iris-setosa\n",
       "2            4.7           3.2            1.3           0.2  Iris-setosa\n",
       "3            4.6           3.1            1.5           0.2  Iris-setosa\n",
       "4            5.0           3.6            1.4           0.2  Iris-setosa"
      ]
     },
     "execution_count": 9,
     "metadata": {},
     "output_type": "execute_result"
    }
   ],
   "source": [
    "iris_data.head()"
   ]
  },
  {
   "cell_type": "code",
   "execution_count": 10,
   "id": "bdd197c0",
   "metadata": {},
   "outputs": [
    {
     "data": {
      "text/plain": [
       "(150, 5)"
      ]
     },
     "execution_count": 10,
     "metadata": {},
     "output_type": "execute_result"
    }
   ],
   "source": [
    "iris_data.shape"
   ]
  },
  {
   "cell_type": "code",
   "execution_count": 11,
   "id": "be9f3f28",
   "metadata": {},
   "outputs": [
    {
     "name": "stdout",
     "output_type": "stream",
     "text": [
      "<class 'pandas.core.frame.DataFrame'>\n",
      "RangeIndex: 150 entries, 0 to 149\n",
      "Data columns (total 5 columns):\n",
      " #   Column         Non-Null Count  Dtype  \n",
      "---  ------         --------------  -----  \n",
      " 0   SepalLengthCm  150 non-null    float64\n",
      " 1   SepalWidthCm   150 non-null    float64\n",
      " 2   PetalLengthCm  150 non-null    float64\n",
      " 3   PetalWidthCm   150 non-null    float64\n",
      " 4   Species        150 non-null    object \n",
      "dtypes: float64(4), object(1)\n",
      "memory usage: 6.0+ KB\n"
     ]
    }
   ],
   "source": [
    "iris_data.info()"
   ]
  },
  {
   "cell_type": "code",
   "execution_count": 12,
   "id": "b219f01a",
   "metadata": {
    "scrolled": true
   },
   "outputs": [
    {
     "data": {
      "text/html": [
       "<div>\n",
       "<style scoped>\n",
       "    .dataframe tbody tr th:only-of-type {\n",
       "        vertical-align: middle;\n",
       "    }\n",
       "\n",
       "    .dataframe tbody tr th {\n",
       "        vertical-align: top;\n",
       "    }\n",
       "\n",
       "    .dataframe thead th {\n",
       "        text-align: right;\n",
       "    }\n",
       "</style>\n",
       "<table border=\"1\" class=\"dataframe\">\n",
       "  <thead>\n",
       "    <tr style=\"text-align: right;\">\n",
       "      <th></th>\n",
       "      <th>SepalLengthCm</th>\n",
       "      <th>SepalWidthCm</th>\n",
       "      <th>PetalLengthCm</th>\n",
       "      <th>PetalWidthCm</th>\n",
       "    </tr>\n",
       "  </thead>\n",
       "  <tbody>\n",
       "    <tr>\n",
       "      <th>count</th>\n",
       "      <td>150.000000</td>\n",
       "      <td>150.000000</td>\n",
       "      <td>150.000000</td>\n",
       "      <td>150.000000</td>\n",
       "    </tr>\n",
       "    <tr>\n",
       "      <th>mean</th>\n",
       "      <td>5.843333</td>\n",
       "      <td>3.054000</td>\n",
       "      <td>3.758667</td>\n",
       "      <td>1.198667</td>\n",
       "    </tr>\n",
       "    <tr>\n",
       "      <th>std</th>\n",
       "      <td>0.828066</td>\n",
       "      <td>0.433594</td>\n",
       "      <td>1.764420</td>\n",
       "      <td>0.763161</td>\n",
       "    </tr>\n",
       "    <tr>\n",
       "      <th>min</th>\n",
       "      <td>4.300000</td>\n",
       "      <td>2.000000</td>\n",
       "      <td>1.000000</td>\n",
       "      <td>0.100000</td>\n",
       "    </tr>\n",
       "    <tr>\n",
       "      <th>25%</th>\n",
       "      <td>5.100000</td>\n",
       "      <td>2.800000</td>\n",
       "      <td>1.600000</td>\n",
       "      <td>0.300000</td>\n",
       "    </tr>\n",
       "    <tr>\n",
       "      <th>50%</th>\n",
       "      <td>5.800000</td>\n",
       "      <td>3.000000</td>\n",
       "      <td>4.350000</td>\n",
       "      <td>1.300000</td>\n",
       "    </tr>\n",
       "    <tr>\n",
       "      <th>75%</th>\n",
       "      <td>6.400000</td>\n",
       "      <td>3.300000</td>\n",
       "      <td>5.100000</td>\n",
       "      <td>1.800000</td>\n",
       "    </tr>\n",
       "    <tr>\n",
       "      <th>max</th>\n",
       "      <td>7.900000</td>\n",
       "      <td>4.400000</td>\n",
       "      <td>6.900000</td>\n",
       "      <td>2.500000</td>\n",
       "    </tr>\n",
       "  </tbody>\n",
       "</table>\n",
       "</div>"
      ],
      "text/plain": [
       "       SepalLengthCm  SepalWidthCm  PetalLengthCm  PetalWidthCm\n",
       "count     150.000000    150.000000     150.000000    150.000000\n",
       "mean        5.843333      3.054000       3.758667      1.198667\n",
       "std         0.828066      0.433594       1.764420      0.763161\n",
       "min         4.300000      2.000000       1.000000      0.100000\n",
       "25%         5.100000      2.800000       1.600000      0.300000\n",
       "50%         5.800000      3.000000       4.350000      1.300000\n",
       "75%         6.400000      3.300000       5.100000      1.800000\n",
       "max         7.900000      4.400000       6.900000      2.500000"
      ]
     },
     "execution_count": 12,
     "metadata": {},
     "output_type": "execute_result"
    }
   ],
   "source": [
    "iris_data.describe()"
   ]
  },
  {
   "cell_type": "code",
   "execution_count": 13,
   "id": "9a1578cf",
   "metadata": {
    "scrolled": false
   },
   "outputs": [
    {
     "name": "stdout",
     "output_type": "stream",
     "text": [
      "['Iris-setosa' 'Iris-versicolor' 'Iris-virginica']\n"
     ]
    }
   ],
   "source": [
    "print(iris_data['Species'].unique())"
   ]
  },
  {
   "cell_type": "code",
   "execution_count": 14,
   "id": "c90b3b35",
   "metadata": {},
   "outputs": [
    {
     "data": {
      "image/png": "[encoded data removed]",
      "text/plain": [
       "<Figure size 864x720 with 4 Axes>"
      ]
     },
     "metadata": {
      "needs_background": "light"
     },
     "output_type": "display_data"
    }
   ],
   "source": [
    "# Set up a 2x2 grid for the boxplots\n",
    "fig, axes = plt.subplots(2, 2, figsize=(12, 10))\n",
    "\n",
    "# Plot Boxplot of Sepal Length by Species\n",
    "sns.boxplot(data=iris_data, x='Species', y='SepalLengthCm', ax=axes[0, 0])\n",
    "axes[0, 0].set_title(\"Boxplot of Sepal Length by Species\")\n",
    "\n",
    "# Plot Boxplot of Sepal Width by Species\n",
    "sns.boxplot(data=iris_data, x='Species', y='SepalWidthCm', ax=axes[0, 1])\n",
    "axes[0, 1].set_title(\"Boxplot of Sepal Width by Species\")\n",
    "\n",
    "# Plot Boxplot of Petal Length by Species\n",
    "sns.boxplot(data=iris_data, x='Species', y='PetalLengthCm', ax=axes[1, 0])\n",
    "axes[1, 0].set_title(\"Boxplot of Petal Length by Species\")\n",
    "\n",
    "# Plot Boxplot of Petal Width by Species\n",
    "sns.boxplot(data=iris_data, x='Species', y='PetalWidthCm', ax=axes[1, 1])\n",
    "axes[1, 1].set_title(\"Boxplot of Petal Width by Species\")\n",
    "\n",
    "# Adjust layout to avoid overlapping labels\n",
    "plt.tight_layout()\n",
    "plt.show()"
   ]
  },
  {
   "cell_type": "code",
   "execution_count": 15,
   "id": "7e6cb20d",
   "metadata": {},
   "outputs": [
    {
     "data": {
      "image/png": "[encoded data removed]",
      "text/plain": [
       "<Figure size 576x432 with 2 Axes>"
      ]
     },
     "metadata": {
      "needs_background": "light"
     },
     "output_type": "display_data"
    }
   ],
   "source": [
    "# Compute the correlation matrix\n",
    "correlation_matrix = iris_data[['SepalLengthCm', 'SepalWidthCm', 'PetalLengthCm', 'PetalWidthCm']].corr()\n",
    "\n",
    "# Plot the heatmap\n",
    "plt.figure(figsize=(8, 6))\n",
    "sns.heatmap(correlation_matrix, annot=True, cmap='RdBu', fmt='.2f')\n",
    "plt.title(\"Correlation Heatmap of Iris Dataset\")\n",
    "plt.show()"
   ]
  },
  {
   "cell_type": "code",
   "execution_count": 16,
   "id": "38b1247a",
   "metadata": {},
   "outputs": [
    {
     "data": {
      "image/png": "[encoded data removed]",
      "text/plain": [
       "<Figure size 720x576 with 4 Axes>"
      ]
     },
     "metadata": {
      "needs_background": "light"
     },
     "output_type": "display_data"
    }
   ],
   "source": [
    "# Plot histograms for each feature\n",
    "iris_data[['SepalLengthCm', 'SepalWidthCm', 'PetalLengthCm', 'PetalWidthCm']].hist(bins=20, figsize=(10, 8))\n",
    "plt.suptitle(\"Distribution of Features in Iris Dataset\")\n",
    "plt.show()"
   ]
  },
  {
   "cell_type": "code",
   "execution_count": 17,
   "id": "ce84ec16",
   "metadata": {
    "scrolled": false
   },
   "outputs": [
    {
     "data": {
      "image/png": "[encoded data removed]",
      "text/plain": [
       "<Figure size 823.25x720 with 20 Axes>"
      ]
     },
     "metadata": {
      "needs_background": "light"
     },
     "output_type": "display_data"
    }
   ],
   "source": [
    "# sns.pairplot(iris_data, hue=\"Species\", markers=[\"o\", \"s\", \"D\"])\n",
    "sns.pairplot(iris_data, hue=\"Species\")\n",
    "plt.show()"
   ]
  },
  {
   "cell_type": "markdown",
   "id": "75871e3a",
   "metadata": {},
   "source": [
    "---\n",
    "\n",
    "### **Step 3: Data Preprocessing**\n",
    "\n",
    "1. **Handle Missing Values** (if any):\n",
    "   - Although the Iris dataset is generally clean, it’s good to check for missing values just in case.\n",
    "\n",
    "   ```python\n",
    "   print(data.isnull().sum())\n",
    "   ```\n",
    "\n",
    "2. **Encode the Target Column**:\n",
    "   - Convert the `Species` column to numerical values to use in model training.\n",
    "\n",
    "   ```python\n",
    "   from sklearn.preprocessing import LabelEncoder\n",
    "\n",
    "   encoder = LabelEncoder()\n",
    "   data['species_encoded'] = encoder.fit_transform(data['Species'])\n",
    "   ```\n",
    "\n",
    "3. **Feature Scaling**:\n",
    "   - Standardize features to make the model training smoother. Here, you can apply `StandardScaler` to `sepal_length`, `sepal_width`, `petal_length`, and `petal_width`.\n",
    "\n",
    "   ```python\n",
    "   from sklearn.preprocessing import StandardScaler\n",
    "\n",
    "   scaler = StandardScaler()\n",
    "   features = ['sepal_length', 'sepal_width', 'petal_length', 'petal_width']\n",
    "   data[features] = scaler.fit_transform(data[features])\n",
    "   ```"
   ]
  },
  {
   "cell_type": "code",
   "execution_count": 18,
   "id": "73312180",
   "metadata": {},
   "outputs": [
    {
     "name": "stdout",
     "output_type": "stream",
     "text": [
      "SepalLengthCm    0\n",
      "SepalWidthCm     0\n",
      "PetalLengthCm    0\n",
      "PetalWidthCm     0\n",
      "Species          0\n",
      "dtype: int64\n"
     ]
    }
   ],
   "source": [
    "print(iris_data.isnull().sum())"
   ]
  },
  {
   "cell_type": "code",
   "execution_count": 19,
   "id": "1b379d13",
   "metadata": {},
   "outputs": [],
   "source": [
    "encoder = LabelEncoder()\n",
    "iris_data['species_encoded'] = encoder.fit_transform(iris_data['Species'])"
   ]
  },
  {
   "cell_type": "code",
   "execution_count": 20,
   "id": "629b7c74",
   "metadata": {},
   "outputs": [
    {
     "name": "stdout",
     "output_type": "stream",
     "text": [
      "[0 1 2]\n"
     ]
    }
   ],
   "source": [
    "print(iris_data['species_encoded'].unique())"
   ]
  },
  {
   "cell_type": "code",
   "execution_count": 21,
   "id": "1a85fb61",
   "metadata": {},
   "outputs": [
    {
     "data": {
      "text/plain": [
       "Index(['SepalLengthCm', 'SepalWidthCm', 'PetalLengthCm', 'PetalWidthCm',\n",
       "       'Species', 'species_encoded'],\n",
       "      dtype='object')"
      ]
     },
     "execution_count": 21,
     "metadata": {},
     "output_type": "execute_result"
    }
   ],
   "source": [
    "iris_data.columns"
   ]
  },
  {
   "cell_type": "code",
   "execution_count": 22,
   "id": "0fa0f40b",
   "metadata": {
    "scrolled": true
   },
   "outputs": [
    {
     "data": {
      "text/html": [
       "<div>\n",
       "<style scoped>\n",
       "    .dataframe tbody tr th:only-of-type {\n",
       "        vertical-align: middle;\n",
       "    }\n",
       "\n",
       "    .dataframe tbody tr th {\n",
       "        vertical-align: top;\n",
       "    }\n",
       "\n",
       "    .dataframe thead th {\n",
       "        text-align: right;\n",
       "    }\n",
       "</style>\n",
       "<table border=\"1\" class=\"dataframe\">\n",
       "  <thead>\n",
       "    <tr style=\"text-align: right;\">\n",
       "      <th></th>\n",
       "      <th>SepalLengthCm</th>\n",
       "      <th>SepalWidthCm</th>\n",
       "      <th>PetalLengthCm</th>\n",
       "      <th>PetalWidthCm</th>\n",
       "      <th>Species</th>\n",
       "      <th>species_encoded</th>\n",
       "    </tr>\n",
       "  </thead>\n",
       "  <tbody>\n",
       "    <tr>\n",
       "      <th>0</th>\n",
       "      <td>5.1</td>\n",
       "      <td>3.5</td>\n",
       "      <td>1.4</td>\n",
       "      <td>0.2</td>\n",
       "      <td>Iris-setosa</td>\n",
       "      <td>0</td>\n",
       "    </tr>\n",
       "    <tr>\n",
       "      <th>1</th>\n",
       "      <td>4.9</td>\n",
       "      <td>3.0</td>\n",
       "      <td>1.4</td>\n",
       "      <td>0.2</td>\n",
       "      <td>Iris-setosa</td>\n",
       "      <td>0</td>\n",
       "    </tr>\n",
       "    <tr>\n",
       "      <th>2</th>\n",
       "      <td>4.7</td>\n",
       "      <td>3.2</td>\n",
       "      <td>1.3</td>\n",
       "      <td>0.2</td>\n",
       "      <td>Iris-setosa</td>\n",
       "      <td>0</td>\n",
       "    </tr>\n",
       "    <tr>\n",
       "      <th>3</th>\n",
       "      <td>4.6</td>\n",
       "      <td>3.1</td>\n",
       "      <td>1.5</td>\n",
       "      <td>0.2</td>\n",
       "      <td>Iris-setosa</td>\n",
       "      <td>0</td>\n",
       "    </tr>\n",
       "    <tr>\n",
       "      <th>4</th>\n",
       "      <td>5.0</td>\n",
       "      <td>3.6</td>\n",
       "      <td>1.4</td>\n",
       "      <td>0.2</td>\n",
       "      <td>Iris-setosa</td>\n",
       "      <td>0</td>\n",
       "    </tr>\n",
       "  </tbody>\n",
       "</table>\n",
       "</div>"
      ],
      "text/plain": [
       "   SepalLengthCm  SepalWidthCm  PetalLengthCm  PetalWidthCm      Species  \\\n",
       "0            5.1           3.5            1.4           0.2  Iris-setosa   \n",
       "1            4.9           3.0            1.4           0.2  Iris-setosa   \n",
       "2            4.7           3.2            1.3           0.2  Iris-setosa   \n",
       "3            4.6           3.1            1.5           0.2  Iris-setosa   \n",
       "4            5.0           3.6            1.4           0.2  Iris-setosa   \n",
       "\n",
       "   species_encoded  \n",
       "0                0  \n",
       "1                0  \n",
       "2                0  \n",
       "3                0  \n",
       "4                0  "
      ]
     },
     "execution_count": 22,
     "metadata": {},
     "output_type": "execute_result"
    }
   ],
   "source": [
    "iris_data.head()"
   ]
  },
  {
   "cell_type": "code",
   "execution_count": 23,
   "id": "065e4f9b",
   "metadata": {},
   "outputs": [],
   "source": [
    "# sns.pairplot(iris_data[['Id', 'SepalLengthCm', 'SepalWidthCm', 'PetalLengthCm', 'PetalWidthCm', 'Species']], hue=\"Species\")\n",
    "# plt.show()"
   ]
  },
  {
   "cell_type": "markdown",
   "id": "44f4e790",
   "metadata": {},
   "source": [
    "---\n",
    "\n",
    "### **Step 4: Split the Data into Train/Test Sets**\n",
    "\n",
    "1. **Separate Features and Labels**:\n",
    "   - Split the dataset into the input features and the target labels.\n",
    "\n",
    "   ```python\n",
    "   X = data[features]\n",
    "   y = data['species_encoded']\n",
    "   ```\n",
    "\n",
    "2. **Create Train and Test Sets**:\n",
    "   - Use an 80-20 split to have enough data for training and still leave some for testing.\n",
    "\n",
    "   ```python\n",
    "   from sklearn.model_selection import train_test_split\n",
    "\n",
    "   X_train, X_test, y_train, y_test = train_test_split(X, y, test_size=0.2, random_state=42, stratify=y)\n",
    "   ```\n",
    "\n",
    "   Using `stratify=y` helps ensure each species is proportionately represented in both sets.\n",
    "\n",
    "With these steps, you’ll have your data prepared and ready to move on to model training in Week 2. "
   ]
  },
  {
   "cell_type": "code",
   "execution_count": 24,
   "id": "16a0c1ae",
   "metadata": {},
   "outputs": [],
   "source": [
    "features = ['SepalLengthCm', 'SepalWidthCm', 'PetalLengthCm', 'PetalWidthCm']\n",
    "\n",
    "X = iris_data[features]\n",
    "y = iris_data['species_encoded']\n",
    "\n",
    "X_train, X_test, y_train, y_test = train_test_split(X, y, test_size=0.2, random_state=42, stratify=y)"
   ]
  },
  {
   "cell_type": "code",
   "execution_count": 25,
   "id": "956bfbbc",
   "metadata": {},
   "outputs": [],
   "source": [
    "scaler = StandardScaler()\n",
    "X_train = scaler.fit_transform(X_train)\n",
    "X_test = scaler.fit_transform(X_test)"
   ]
  },
  {
   "cell_type": "markdown",
   "id": "01729ed3",
   "metadata": {},
   "source": [
    "----\n",
    "<br><br><br><br><br><br>\n",
    "## 2. Model Building, Training & Evaluation\n",
    "----\n",
    "\n",
    "For **Week 2**, the focus is on building, training, and evaluating models on the Iris dataset. Here’s a breakdown with specific steps and relevant code examples:\n",
    "\n",
    "---\n",
    "\n",
    "### **Step 1: Model Selection**\n",
    "\n",
    "1. **Choose Algorithms to Compare**:\n",
    "   - Start with simple algorithms such as **Logistic Regression** and **k-Nearest Neighbors (k-NN)**, then move to slightly more complex models like **Decision Trees** and **Support Vector Machines (SVM)**.\n",
    "   - This variety will help demonstrate the strengths of each algorithm on a small, well-separated dataset like Iris.\n",
    "\n",
    "---\n",
    "\n",
    "### **Step 2: Model Training**\n",
    "\n",
    "1. **Define and Train Models**:\n",
    "   - Set up each model and train it using `X_train` and `y_train`.\n",
    "\n",
    "   ```python\n",
    "   from sklearn.linear_model import LogisticRegression\n",
    "   from sklearn.neighbors import KNeighborsClassifier\n",
    "   from sklearn.tree import DecisionTreeClassifier\n",
    "   from sklearn.svm import SVC\n",
    "\n",
    "   # Initialize models\n",
    "   models = {\n",
    "       \"Logistic Regression\": LogisticRegression(),\n",
    "       \"k-Nearest Neighbors\": KNeighborsClassifier(n_neighbors=3),\n",
    "       \"Decision Tree\": DecisionTreeClassifier(),\n",
    "       \"SVM\": SVC()\n",
    "   }\n",
    "\n",
    "   # Train each model\n",
    "   for model_name, model in models.items():\n",
    "       model.fit(X_train, y_train)\n",
    "       print(f\"{model_name} trained successfully.\")\n",
    "   ```"
   ]
  },
  {
   "cell_type": "code",
   "execution_count": 26,
   "id": "344b8229",
   "metadata": {},
   "outputs": [
    {
     "name": "stdout",
     "output_type": "stream",
     "text": [
      "Logistic Regression trained successfully.\n",
      "k-Nearest Neighbors trained successfully.\n",
      "Decision Tree trained successfully.\n",
      "Random Forest Classifier trained successfully.\n",
      "SVM trained successfully.\n"
     ]
    }
   ],
   "source": [
    "# Initialize models\n",
    "models = {\n",
    "    \"Logistic Regression\": LogisticRegression(),\n",
    "    \"k-Nearest Neighbors\": KNeighborsClassifier(n_neighbors=3),\n",
    "    \"Decision Tree\": DecisionTreeClassifier(),\n",
    "    \"Random Forest Classifier\": RandomForestClassifier(),\n",
    "    \"SVM\": SVC()\n",
    "}\n",
    "\n",
    "# Train each model\n",
    "for model_name, model in models.items():\n",
    "    model.fit(X_train, y_train)\n",
    "    print(f\"{model_name} trained successfully.\")"
   ]
  },
  {
   "cell_type": "markdown",
   "id": "2ad6b4e8",
   "metadata": {},
   "source": [
    "---\n",
    "\n",
    "### **Step 3: Model Evaluation**\n",
    "\n",
    "1. **Evaluate Models on Test Data**:\n",
    "   - Calculate accuracy and other metrics like precision, recall, and F1-score to see how well each model performs on `X_test`.\n",
    "\n",
    "   ```python\n",
    "   from sklearn.metrics import accuracy_score, classification_report\n",
    "\n",
    "   for model_name, model in models.items():\n",
    "       y_pred = model.predict(X_test)\n",
    "       print(f\"Model: {model_name}\")\n",
    "       print(\"Accuracy:\", accuracy_score(y_test, y_pred))\n",
    "       print(\"Classification Report:\\n\", classification_report(y_test, y_pred))\n",
    "       print(\"\\n\" + \"-\"*50 + \"\\n\")\n",
    "   ```\n",
    "\n",
    "2. **Confusion Matrix**:\n",
    "   - Plot a confusion matrix to visually understand misclassifications and overall model performance.\n",
    "\n",
    "   ```python\n",
    "   from sklearn.metrics import confusion_matrix\n",
    "   import seaborn as sns\n",
    "   import matplotlib.pyplot as plt\n",
    "\n",
    "   for model_name, model in models.items():\n",
    "       y_pred = model.predict(X_test)\n",
    "       cm = confusion_matrix(y_test, y_pred)\n",
    "       sns.heatmap(cm, annot=True, fmt='d', cmap='Blues')\n",
    "       plt.title(f\"Confusion Matrix for {model_name}\")\n",
    "       plt.xlabel('Predicted')\n",
    "       plt.ylabel('Actual')\n",
    "       plt.show()\n",
    "   ```"
   ]
  },
  {
   "cell_type": "code",
   "execution_count": 27,
   "id": "fbf4e034",
   "metadata": {},
   "outputs": [
    {
     "name": "stdout",
     "output_type": "stream",
     "text": [
      "Model: Logistic Regression\n",
      "Accuracy: 96.667%\n",
      "Classification Report:\n",
      "               precision    recall  f1-score   support\n",
      "\n",
      "           0       1.00      1.00      1.00        10\n",
      "           1       1.00      0.90      0.95        10\n",
      "           2       0.91      1.00      0.95        10\n",
      "\n",
      "    accuracy                           0.97        30\n",
      "   macro avg       0.97      0.97      0.97        30\n",
      "weighted avg       0.97      0.97      0.97        30\n",
      "\n",
      "\n",
      "--------------------------------------------------\n",
      "\n",
      "Model: k-Nearest Neighbors\n",
      "Accuracy: 96.667%\n",
      "Classification Report:\n",
      "               precision    recall  f1-score   support\n",
      "\n",
      "           0       1.00      1.00      1.00        10\n",
      "           1       0.91      1.00      0.95        10\n",
      "           2       1.00      0.90      0.95        10\n",
      "\n",
      "    accuracy                           0.97        30\n",
      "   macro avg       0.97      0.97      0.97        30\n",
      "weighted avg       0.97      0.97      0.97        30\n",
      "\n",
      "\n",
      "--------------------------------------------------\n",
      "\n",
      "Model: Decision Tree\n",
      "Accuracy: 93.333%\n",
      "Classification Report:\n",
      "               precision    recall  f1-score   support\n",
      "\n",
      "           0       1.00      1.00      1.00        10\n",
      "           1       0.90      0.90      0.90        10\n",
      "           2       0.90      0.90      0.90        10\n",
      "\n",
      "    accuracy                           0.93        30\n",
      "   macro avg       0.93      0.93      0.93        30\n",
      "weighted avg       0.93      0.93      0.93        30\n",
      "\n",
      "\n",
      "--------------------------------------------------\n",
      "\n",
      "Model: Random Forest Classifier\n",
      "Accuracy: 96.667%\n",
      "Classification Report:\n",
      "               precision    recall  f1-score   support\n",
      "\n",
      "           0       1.00      1.00      1.00        10\n",
      "           1       1.00      0.90      0.95        10\n",
      "           2       0.91      1.00      0.95        10\n",
      "\n",
      "    accuracy                           0.97        30\n",
      "   macro avg       0.97      0.97      0.97        30\n",
      "weighted avg       0.97      0.97      0.97        30\n",
      "\n",
      "\n",
      "--------------------------------------------------\n",
      "\n",
      "Model: SVM\n",
      "Accuracy: 96.667%\n",
      "Classification Report:\n",
      "               precision    recall  f1-score   support\n",
      "\n",
      "           0       1.00      1.00      1.00        10\n",
      "           1       1.00      0.90      0.95        10\n",
      "           2       0.91      1.00      0.95        10\n",
      "\n",
      "    accuracy                           0.97        30\n",
      "   macro avg       0.97      0.97      0.97        30\n",
      "weighted avg       0.97      0.97      0.97        30\n",
      "\n",
      "\n",
      "--------------------------------------------------\n",
      "\n"
     ]
    }
   ],
   "source": [
    "for model_name, model in models.items():\n",
    "    y_pred = model.predict(X_test)\n",
    "    print(f\"Model: {model_name}\")\n",
    "    print(\"Accuracy: {:.3f}%\".format(accuracy_score(y_test, y_pred) * 100))\n",
    "    print(\"Classification Report:\\n\", classification_report(y_test, y_pred))\n",
    "    print(\"\\n\" + \"-\"*50 + \"\\n\")"
   ]
  },
  {
   "cell_type": "code",
   "execution_count": 28,
   "id": "434fe5be",
   "metadata": {},
   "outputs": [
    {
     "data": {
      "image/png": "[encoded data removed]",
      "text/plain": [
       "<Figure size 432x288 with 2 Axes>"
      ]
     },
     "metadata": {
      "needs_background": "light"
     },
     "output_type": "display_data"
    },
    {
     "data": {
      "image/png": "[encoded data removed]",
      "text/plain": [
       "<Figure size 432x288 with 2 Axes>"
      ]
     },
     "metadata": {
      "needs_background": "light"
     },
     "output_type": "display_data"
    },
    {
     "data": {
      "image/png": "[encoded data removed]",
      "text/plain": [
       "<Figure size 432x288 with 2 Axes>"
      ]
     },
     "metadata": {
      "needs_background": "light"
     },
     "output_type": "display_data"
    },
    {
     "data": {
      "image/png": "[encoded data removed]",
      "text/plain": [
       "<Figure size 432x288 with 2 Axes>"
      ]
     },
     "metadata": {
      "needs_background": "light"
     },
     "output_type": "display_data"
    },
    {
     "data": {
      "image/png": "[encoded data removed]",
      "text/plain": [
       "<Figure size 432x288 with 2 Axes>"
      ]
     },
     "metadata": {
      "needs_background": "light"
     },
     "output_type": "display_data"
    }
   ],
   "source": [
    "for model_name, model in models.items():\n",
    "    y_pred = model.predict(X_test)\n",
    "    cm = confusion_matrix(y_test, y_pred)\n",
    "    sns.heatmap(cm, annot=True, fmt='d', cmap='Blues')\n",
    "    plt.title(f\"Confusion Matrix for {model_name}\")\n",
    "    plt.xlabel('Predicted')\n",
    "    plt.ylabel('Actual')\n",
    "    plt.show()\n"
   ]
  },
  {
   "cell_type": "markdown",
   "id": "e7dc41d4",
   "metadata": {},
   "source": [
    "---\n",
    "\n",
    "### **Step 4: Hyperparameter Tuning**\n",
    "\n",
    "1. **Tune Hyperparameters with Grid Search**:\n",
    "   - Use `GridSearchCV` to find optimal hyperparameters for at least one model, like `k-NN` or `SVM`.\n",
    "\n",
    "   ```python\n",
    "   from sklearn.model_selection import GridSearchCV\n",
    "\n",
    "   # Example for k-NN\n",
    "   knn = KNeighborsClassifier()\n",
    "   param_grid = {'n_neighbors': [3, 5, 7, 9]}\n",
    "   grid_search = GridSearchCV(knn, param_grid, cv=5, scoring='accuracy')\n",
    "   grid_search.fit(X_train, y_train)\n",
    "\n",
    "   print(\"Best Parameters for k-NN:\", grid_search.best_params_)\n",
    "   print(\"Best Score for k-NN:\", grid_search.best_score_)\n",
    "   ```\n",
    "\n",
    "2. **Retrain and Evaluate**:\n",
    "   - Using the best parameters from `GridSearchCV`, retrain the model and evaluate it again to see if performance improves."
   ]
  },
  {
   "cell_type": "code",
   "execution_count": 29,
   "id": "7ed71ced",
   "metadata": {},
   "outputs": [
    {
     "name": "stdout",
     "output_type": "stream",
     "text": [
      "Best Parameters for Logistic Reg.: {'C': 10.0, 'max_iter': 50, 'multi_class': 'auto'}\n",
      "Best Score for Logistic Reg.: 0.9666666666666668\n"
     ]
    }
   ],
   "source": [
    "# Logistic Regression\n",
    "logreg = LogisticRegression()\n",
    "param_grid_lr = {\n",
    "    \"C\": [1.0, 3.0, 10.0, 50.0],\n",
    "    \"max_iter\": [50, 100, 200, 1000],\n",
    "    \"multi_class\": [\"auto\", \"ovr\", \"multinomial\"],\n",
    "}\n",
    "grid_lr = GridSearchCV(logreg, param_grid_lr, cv=5, scoring='accuracy')\n",
    "grid_lr.fit(X_train, y_train)\n",
    "\n",
    "print(\"Best Parameters for Logistic Reg.:\", grid_lr.best_params_)\n",
    "print(\"Best Score for Logistic Reg.:\", grid_lr.best_score_)"
   ]
  },
  {
   "cell_type": "code",
   "execution_count": 30,
   "id": "1e586a1e",
   "metadata": {},
   "outputs": [
    {
     "name": "stdout",
     "output_type": "stream",
     "text": [
      "Best Parameters for k-NN: {'algorithm': 'auto', 'leaf_size': 20, 'n_neighbors': 5, 'p': 2, 'weights': 'uniform'}\n",
      "Best Score for k-NN: 0.9666666666666668\n"
     ]
    }
   ],
   "source": [
    "# Example for k-NN\n",
    "knn = KNeighborsClassifier()\n",
    "param_grid_knn = {'n_neighbors': [3, 4, 5, 6, 7, 8, 9, 10, 11, 12],\n",
    "             'weights': ['uniform', 'distance'],\n",
    "             'algorithm': ['auto', 'ball_tree', 'kd_tree', 'brute'],\n",
    "             'leaf_size': [20, 30, 40],\n",
    "             'p': [1, 2]}\n",
    "grid_knn = GridSearchCV(knn, param_grid_knn, cv=5, scoring='accuracy')\n",
    "grid_knn.fit(X_train, y_train)\n",
    "\n",
    "print(\"Best Parameters for k-NN:\", grid_knn.best_params_)\n",
    "print(\"Best Score for k-NN:\", grid_knn.best_score_)"
   ]
  },
  {
   "cell_type": "code",
   "execution_count": 31,
   "id": "f063998c",
   "metadata": {},
   "outputs": [
    {
     "name": "stdout",
     "output_type": "stream",
     "text": [
      "Best Parameters for Random Forest Classifier: {'max_depth': 15, 'max_leaf_nodes': 10, 'n_estimators': 15}\n",
      "Best Score for Random Forest Classifier: 0.9666666666666668\n"
     ]
    }
   ],
   "source": [
    "# Random Forest classifier\n",
    "rfc = RandomForestClassifier()\n",
    "param_grid_rfc = {\n",
    "    \"n_estimators\": [10, 12, 15, 20],\n",
    "    \"max_depth\": [15, 20, 30, 40],\n",
    "    \"max_leaf_nodes\": [5, 8, 10, 20, 30]\n",
    "}\n",
    "grid_rfc = GridSearchCV(rfc, param_grid_rfc, cv=5, scoring='accuracy')\n",
    "grid_rfc.fit(X_train, y_train)\n",
    "\n",
    "print(\"Best Parameters for Random Forest Classifier:\", grid_rfc.best_params_)\n",
    "print(\"Best Score for Random Forest Classifier:\", grid_rfc.best_score_)\n"
   ]
  },
  {
   "cell_type": "code",
   "execution_count": 32,
   "id": "593c26c9",
   "metadata": {},
   "outputs": [
    {
     "name": "stdout",
     "output_type": "stream",
     "text": [
      "Best Parameters for SVM: {'C': 1, 'decision_function_shape': 'ovo', 'gamma': 'auto', 'kernel': 'linear'}\n",
      "Best Score for SVM: 0.975\n"
     ]
    }
   ],
   "source": [
    "# Example for SVM\n",
    "svm = SVC()\n",
    "param_grid_svm = {\n",
    "    \"C\": [1, 10, 30, 100],\n",
    "    \"kernel\": [\"rbf\", \"linear\", \"sigmoid\"],\n",
    "    \"gamma\": [\"auto\", \"scale\"],\n",
    "    \"decision_function_shape\": [\"ovo\", \"ovr\"]\n",
    "}\n",
    "grid_svm = GridSearchCV(svm, param_grid_svm, cv=5, scoring='accuracy')\n",
    "grid_svm.fit(X_train, y_train)\n",
    "\n",
    "print(\"Best Parameters for SVM:\", grid_svm.best_params_)\n",
    "print(\"Best Score for SVM:\", grid_svm.best_score_)"
   ]
  },
  {
   "cell_type": "markdown",
   "id": "9ea67bab",
   "metadata": {},
   "source": [
    "---\n",
    "\n",
    "### **Step 5: Model Selection Summary**\n",
    "\n",
    "1. **Compare and Select Best Model**:\n",
    "   - Summarize the performance metrics (accuracy, precision, recall, F1-score) of each model in a table for easy comparison.\n",
    "   - Document why you choose the final model based on performance, interpretability, or efficiency.\n",
    "\n",
    "2. **Save the Final Model**:\n",
    "   - Save the chosen model using `joblib` or `pickle` for future deployment.\n",
    "\n",
    "   ```python\n",
    "   import joblib\n",
    "   final_model = grid_search.best_estimator_  # Use the tuned model\n",
    "   joblib.dump(final_model, 'final_iris_model.pkl')\n",
    "   ```\n",
    "\n",
    "---\n",
    "\n",
    "With this workflow, you’ll have a trained and well-evaluated model ready for deployment. "
   ]
  },
  {
   "cell_type": "code",
   "execution_count": 33,
   "id": "22e3f6e1",
   "metadata": {},
   "outputs": [
    {
     "data": {
      "text/plain": [
       "(LogisticRegression(C=10.0, max_iter=50),\n",
       " KNeighborsClassifier(leaf_size=20),\n",
       " RandomForestClassifier(max_depth=15, max_leaf_nodes=10, n_estimators=15),\n",
       " SVC(C=1, decision_function_shape='ovo', gamma='auto', kernel='linear'))"
      ]
     },
     "execution_count": 33,
     "metadata": {},
     "output_type": "execute_result"
    }
   ],
   "source": [
    "grid_lr.best_estimator_, \\\n",
    "grid_knn.best_estimator_, \\\n",
    "grid_rfc.best_estimator_, \\\n",
    "grid_svm.best_estimator_"
   ]
  },
  {
   "cell_type": "markdown",
   "id": "ad0befad",
   "metadata": {},
   "source": [
    "---\n",
    "**SVM** is preferred to the rest because it has the highest accuracy score ($\\textbf{97.5%}$ vs $\\textbf{96.67%}$).\n",
    "\n",
    "---"
   ]
  },
  {
   "cell_type": "code",
   "execution_count": 34,
   "id": "5d2e8975",
   "metadata": {},
   "outputs": [
    {
     "data": {
      "text/plain": [
       "['../models/final_iris_SVM_model.pkl']"
      ]
     },
     "execution_count": 34,
     "metadata": {},
     "output_type": "execute_result"
    }
   ],
   "source": [
    "final_model = grid_svm.best_estimator_  # Use the tuned model\n",
    "joblib.dump(final_model, '../models/final_iris_SVM_model.pkl')"
   ]
  },
  {
   "cell_type": "markdown",
   "id": "983e9747",
   "metadata": {},
   "source": [
    "----\n",
    "<br><br><br><br><br><br>\n",
    "## 3. ML Pipeline Creation\n",
    "----\n",
    "\n",
    "In **Week 3**, the focus is on creating a basic ML pipeline that automates data processing, model training, and evaluation. This will make your model more reproducible and easy to maintain. Here’s a breakdown:\n",
    "\n",
    "---\n",
    "\n",
    "### **Step 1: Define Pipeline Stages**\n",
    "\n",
    "1. **Identify Steps to Include in the Pipeline**:\n",
    "   - For the Iris model, the pipeline should have:\n",
    "     - **Data Preprocessing**: Scaling and encoding\n",
    "     - **Model Training**: Training the chosen algorithm (e.g., k-NN, SVM, or the best-performing model from Week 2)\n",
    "     - **Evaluation**: Measuring performance (accuracy, confusion matrix)\n",
    "\n",
    "2. **Use Scikit-Learn’s Pipeline**:\n",
    "   - `Pipeline` from Scikit-Learn lets you streamline these stages into a single workflow.\n",
    "\n",
    "---\n",
    "\n",
    "### **Step 2: Implement the Pipeline**\n",
    "\n",
    "1. **Setup Preprocessing and Modeling Steps**:\n",
    "   - Define your data transformations and model in a `Pipeline`. Here’s an example using a `StandardScaler` for scaling and a k-NN classifier.\n",
    "\n",
    "   ```python\n",
    "   from sklearn.pipeline import Pipeline\n",
    "   from sklearn.preprocessing import StandardScaler\n",
    "   from sklearn.neighbors import KNeighborsClassifier\n",
    "\n",
    "   # Pipeline definition\n",
    "   pipeline = Pipeline([\n",
    "       ('scaler', StandardScaler()),\n",
    "       ('classifier', KNeighborsClassifier(n_neighbors=3))\n",
    "   ])\n",
    "   ```\n",
    "\n",
    "2. **Train the Pipeline**:\n",
    "   - Fit the pipeline on `X_train` and `y_train`. This step will apply the scaler and train the model in one command.\n",
    "\n",
    "   ```python\n",
    "   pipeline.fit(X_train, y_train)\n",
    "   ```"
   ]
  },
  {
   "cell_type": "code",
   "execution_count": 35,
   "id": "b5e5d289",
   "metadata": {},
   "outputs": [
    {
     "data": {
      "text/plain": [
       "Pipeline(steps=[('scaler', StandardScaler()),\n",
       "                ('classifier',\n",
       "                 SVC(C=1, decision_function_shape='ovo', gamma='auto',\n",
       "                     kernel='linear'))])"
      ]
     },
     "execution_count": 35,
     "metadata": {},
     "output_type": "execute_result"
    }
   ],
   "source": [
    "# Pipeline definition\n",
    "svm = grid_svm.best_estimator_\n",
    "pipeline_svm = Pipeline([\n",
    "    ('scaler', StandardScaler()),\n",
    "    ('classifier', svm)\n",
    "])\n",
    "\n",
    "pipeline_svm.fit(X_train, y_train)"
   ]
  },
  {
   "cell_type": "markdown",
   "id": "52a2d6f0",
   "metadata": {},
   "source": [
    "---\n",
    "\n",
    "### **Step 3: Evaluate the Pipeline**\n",
    "\n",
    "1. **Predict on Test Data**:\n",
    "   - Use the pipeline to make predictions on `X_test` and evaluate its performance.\n",
    "\n",
    "   ```python\n",
    "   from sklearn.metrics import accuracy_score, classification_report\n",
    "\n",
    "   y_pred = pipeline.predict(X_test)\n",
    "   print(\"Accuracy:\", accuracy_score(y_test, y_pred))\n",
    "   print(\"Classification Report:\\n\", classification_report(y_test, y_pred))\n",
    "   ```\n",
    "\n",
    "2. **Visualize the Confusion Matrix**:\n",
    "   - To understand performance better, plot a confusion matrix for the pipeline’s predictions.\n",
    "\n",
    "   ```python\n",
    "   from sklearn.metrics import confusion_matrix\n",
    "   import seaborn as sns\n",
    "   import matplotlib.pyplot as plt\n",
    "\n",
    "   cm = confusion_matrix(y_test, y_pred)\n",
    "   sns.heatmap(cm, annot=True, cmap='Blues', fmt='d')\n",
    "   plt.title(\"Confusion Matrix\")\n",
    "   plt.xlabel(\"Predicted Labels\")\n",
    "   plt.ylabel(\"True Labels\")\n",
    "   plt.show()\n",
    "   ```"
   ]
  },
  {
   "cell_type": "code",
   "execution_count": 36,
   "id": "9874656c",
   "metadata": {},
   "outputs": [
    {
     "name": "stdout",
     "output_type": "stream",
     "text": [
      "Accuracy: 96.667%\n",
      "Classification Report:\n",
      "               precision    recall  f1-score   support\n",
      "\n",
      "           0       1.00      1.00      1.00        10\n",
      "           1       1.00      0.90      0.95        10\n",
      "           2       0.91      1.00      0.95        10\n",
      "\n",
      "    accuracy                           0.97        30\n",
      "   macro avg       0.97      0.97      0.97        30\n",
      "weighted avg       0.97      0.97      0.97        30\n",
      "\n"
     ]
    }
   ],
   "source": [
    "y_pred_svm = pipeline_svm.predict(X_test)\n",
    "print(\"Accuracy: {:.3f}%\".format(accuracy_score(y_test, y_pred_svm) * 100))\n",
    "print(\"Classification Report:\\n\", classification_report(y_test, y_pred_svm))"
   ]
  },
  {
   "cell_type": "code",
   "execution_count": 37,
   "id": "a1ccd5cf",
   "metadata": {},
   "outputs": [
    {
     "data": {
      "image/png": "[encoded data removed]",
      "text/plain": [
       "<Figure size 432x288 with 2 Axes>"
      ]
     },
     "metadata": {
      "needs_background": "light"
     },
     "output_type": "display_data"
    }
   ],
   "source": [
    "cm = confusion_matrix(y_test, y_pred_svm)\n",
    "sns.heatmap(cm, annot=True, cmap='Blues', fmt='d')\n",
    "plt.title(\"Confusion Matrix\")\n",
    "plt.xlabel(\"Predicted Labels\")\n",
    "plt.ylabel(\"True Labels\")\n",
    "plt.show()"
   ]
  },
  {
   "cell_type": "markdown",
   "id": "111ac1b3",
   "metadata": {},
   "source": [
    "---\n",
    "\n",
    "### **Step 4: Hyperparameter Tuning within Pipeline**\n",
    "\n",
    "1. **Use Grid Search on the Pipeline**:\n",
    "   - You can perform hyperparameter tuning using `GridSearchCV` directly on the pipeline to ensure that all steps are optimized together.\n",
    "\n",
    "   ```python\n",
    "   from sklearn.model_selection import GridSearchCV\n",
    "\n",
    "   param_grid = {\n",
    "       'classifier__n_neighbors': [3, 5, 7],\n",
    "       'classifier__weights': ['uniform', 'distance']\n",
    "   }\n",
    "\n",
    "   grid_search = GridSearchCV(pipeline, param_grid, cv=5, scoring='accuracy')\n",
    "   grid_search.fit(X_train, y_train)\n",
    "\n",
    "   print(\"Best Parameters:\", grid_search.best_params_)\n",
    "   print(\"Best Score:\", grid_search.best_score_)\n",
    "   ```\n",
    "\n",
    "2. **Save the Tuned Pipeline**:\n",
    "   - Once you have the best parameters, save the entire pipeline as a model object for later use.\n",
    "\n",
    "   ```python\n",
    "   import joblib\n",
    "   joblib.dump(grid_search.best_estimator_, 'models/final_iris_pipeline.pkl')\n",
    "   ```"
   ]
  },
  {
   "cell_type": "code",
   "execution_count": 38,
   "id": "f07ac8d3",
   "metadata": {},
   "outputs": [
    {
     "data": {
      "text/plain": [
       "Pipeline(steps=[('scaler', StandardScaler()),\n",
       "                ('classifier', KNeighborsClassifier(leaf_size=20))])"
      ]
     },
     "execution_count": 38,
     "metadata": {},
     "output_type": "execute_result"
    }
   ],
   "source": [
    "# Pipeline definition\n",
    "pipeline_knn = Pipeline([\n",
    "    ('scaler', StandardScaler()),\n",
    "    ('classifier', grid_knn.best_estimator_)\n",
    "])\n",
    "\n",
    "pipeline_knn.fit(X_train, y_train)"
   ]
  },
  {
   "cell_type": "code",
   "execution_count": 39,
   "id": "a9032627",
   "metadata": {},
   "outputs": [
    {
     "name": "stdout",
     "output_type": "stream",
     "text": [
      "Accuracy: 100.000%\n",
      "Classification Report:\n",
      "               precision    recall  f1-score   support\n",
      "\n",
      "           0       1.00      1.00      1.00        10\n",
      "           1       1.00      1.00      1.00        10\n",
      "           2       1.00      1.00      1.00        10\n",
      "\n",
      "    accuracy                           1.00        30\n",
      "   macro avg       1.00      1.00      1.00        30\n",
      "weighted avg       1.00      1.00      1.00        30\n",
      "\n"
     ]
    }
   ],
   "source": [
    "y_pred_knn = pipeline_knn.predict(X_test)\n",
    "print(\"Accuracy: {:.3f}%\".format(accuracy_score(y_test, y_pred_knn) * 100))\n",
    "print(\"Classification Report:\\n\", classification_report(y_test, y_pred_knn))"
   ]
  },
  {
   "cell_type": "code",
   "execution_count": 40,
   "id": "2dcc8b43",
   "metadata": {
    "scrolled": true
   },
   "outputs": [],
   "source": [
    "# param_grid = {\n",
    "#     'classifier__n_neighbors': [3, 5, 7, 9],\n",
    "#     'classifier__weights': ['uniform', 'distance']\n",
    "# }\n",
    "\n",
    "# grid_search = GridSearchCV(pipeline2, param_grid, cv=5, scoring='accuracy')\n",
    "# grid_search.fit(X_train, y_train)\n",
    "\n",
    "# print(\"Pipeline:\", grid_search.best_estimator_)\n",
    "# print(\"Best Parameters:\", grid_search.best_params_)\n",
    "# print(\"Best Score:\", grid_search.best_score_)\n"
   ]
  },
  {
   "cell_type": "code",
   "execution_count": 41,
   "id": "c2af3b11",
   "metadata": {
    "scrolled": true
   },
   "outputs": [
    {
     "name": "stdout",
     "output_type": "stream",
     "text": [
      "Logistic Regression : 96.66666666666667\n",
      "k-Nearest Neighbors : 100.0\n",
      "Decision Tree : 96.66666666666667\n",
      "Random Forest Classifier : 96.66666666666667\n",
      "SVM : 96.66666666666667\n"
     ]
    }
   ],
   "source": [
    "models = {\n",
    "    \"Logistic Regression\": grid_lr.best_estimator_,\n",
    "    \"k-Nearest Neighbors\": grid_knn.best_estimator_,\n",
    "    \"Decision Tree\": DecisionTreeClassifier(),\n",
    "    \"Random Forest Classifier\": grid_rfc.best_estimator_,\n",
    "    \"SVM\": svm\n",
    "}\n",
    "\n",
    "def testset_scores(clf, X_train, y_train, X_test, y_test):\n",
    "    for key, value in models.items():\n",
    "        clf = value\n",
    "        clf.fit(X_train, y_train)\n",
    "        y_preds = clf.predict(X_test)\n",
    "        print(key,\":\", accuracy_score(y_test, y_preds)*100)\n",
    "        \n",
    "testset_scores(models, X_train, y_train, X_test, y_test)\n"
   ]
  },
  {
   "cell_type": "markdown",
   "id": "a187cf1e",
   "metadata": {},
   "source": [
    "---\n",
    "**kNN** is preferred to the rest because it has the highest prediction accuracy score ($\\textbf{100%}$ vs $\\textbf{96.67%} \\textbf{ , } \\textbf{93.33%}$).\n",
    "\n",
    "---"
   ]
  },
  {
   "cell_type": "code",
   "execution_count": 42,
   "id": "88cd0628",
   "metadata": {},
   "outputs": [
    {
     "data": {
      "text/plain": [
       "Pipeline(steps=[('scaler', StandardScaler()),\n",
       "                ('classifier', KNeighborsClassifier(leaf_size=20))])"
      ]
     },
     "execution_count": 42,
     "metadata": {},
     "output_type": "execute_result"
    }
   ],
   "source": [
    "pipeline_knn"
   ]
  },
  {
   "cell_type": "code",
   "execution_count": 43,
   "id": "978a3c8c",
   "metadata": {},
   "outputs": [
    {
     "data": {
      "text/plain": [
       "['../models/final_iris_kNN_pipeline.pkl']"
      ]
     },
     "execution_count": 43,
     "metadata": {},
     "output_type": "execute_result"
    }
   ],
   "source": [
    "joblib.dump(pipeline_knn, '../models/final_iris_kNN_pipeline.pkl')"
   ]
  },
  {
   "cell_type": "code",
   "execution_count": 44,
   "id": "4db1a7a1",
   "metadata": {},
   "outputs": [
    {
     "data": {
      "text/plain": [
       "['../models/final_iris_SVM_pipeline.pkl']"
      ]
     },
     "execution_count": 44,
     "metadata": {},
     "output_type": "execute_result"
    }
   ],
   "source": [
    "joblib.dump(pipeline_svm, '../models/final_iris_SVM_pipeline.pkl')"
   ]
  },
  {
   "cell_type": "markdown",
   "id": "37668cd9",
   "metadata": {},
   "source": [
    "---\n",
    "\n",
    "### **Step 5: Document Pipeline Workflow**\n",
    "\n",
    "1. **Write a Summary in Your Notebook**:\n",
    "   - Document each step of the pipeline with comments explaining the preprocessing, model choice, and evaluation results.\n",
    "\n",
    "2. **Prepare for Deployment (Optional)**:\n",
    "   - For deployment, you might add steps to preprocess new data and load the saved pipeline model, making it ready for real-world usage.\n",
    "\n",
    "---\n",
    "\n",
    "By the end of Week 3, you’ll have a functional ML pipeline that automates data processing, training, and evaluation, making the model reproducible and deployment-ready. "
   ]
  },
  {
   "cell_type": "markdown",
   "id": "3dc28c9a",
   "metadata": {},
   "source": [
    "### Step 5, No. 2 Details\n",
    "\n",
    "For **deployment**, you'll need to prepare your model for real-world use by automating the process of loading the saved model, processing new input data, and making predictions. Here's a general approach to ensure your pipeline is deployment-ready.\n",
    "\n",
    "### **Steps to Prepare the Model for Deployment**\n",
    "\n",
    "1. **Save the Pipeline Model** (Already done)\n",
    "   - You've already saved your pipeline model in Week 3 with:\n",
    "   \n",
    "     ```python\n",
    "     joblib.dump(pipeline, 'models/final_iris_pipeline.pkl')\n",
    "     ```\n",
    "\n",
    "2. **Create a New Python Script for Deployment**:\n",
    "   - A deployment script is where you'll load the model and define functions to preprocess new data and make predictions. This script will be used to deploy the model in a production environment.\n",
    "\n",
    "   **Example Deployment Script**:\n",
    "   \n",
    "   ```python\n",
    "   import joblib\n",
    "   import numpy as np\n",
    "   import pandas as pd\n",
    "   from sklearn.preprocessing import StandardScaler\n",
    "\n",
    "   # Load the pre-trained pipeline model\n",
    "   model = joblib.load('models/final_iris_pipeline.pkl')\n",
    "\n",
    "   # Function to preprocess new data and predict\n",
    "   def predict_new_data(input_data):\n",
    "       # input_data should be a pandas DataFrame or numpy array\n",
    "       # Ensure the input data is in the same format as the training data\n",
    "       # Example: input_data should have the same number of columns as the training features\n",
    "\n",
    "       # Predict using the pipeline (scaling + model inference is done automatically)\n",
    "       prediction = model.predict(input_data)\n",
    "       return prediction\n",
    "\n",
    "   # Example of new input data (you can replace this with new data)\n",
    "   new_data = np.array([[5.1, 3.5, 1.4, 0.2]])  # Example: Single row of new Iris flower data\n",
    "   \n",
    "   # Convert to pandas DataFrame if necessary (match column names)\n",
    "   new_data_df = pd.DataFrame(new_data, columns=['sepal_length', 'sepal_width', 'petal_length', 'petal_width'])\n",
    "\n",
    "   # Get the prediction\n",
    "   prediction = predict_new_data(new_data_df)\n",
    "   print(f\"Predicted class: {prediction}\")\n",
    "   ```\n",
    "\n",
    "   - **Loading the Model**: You load the model using `joblib.load()`, which restores the trained pipeline with preprocessing and model steps intact.\n",
    "   \n",
    "   - **Predicting New Data**: The `predict_new_data()` function takes new data, applies the same preprocessing (scaling, feature transformations), and then predicts the class using the saved model pipeline.\n",
    "\n",
    "3. **Handle Data Preprocessing for New Data**:\n",
    "   - **Ensure Consistency**: When the model is deployed, the new data that arrives should match the format of the training data. This means the same feature engineering steps must be applied, like scaling or encoding.\n",
    "   \n",
    "   - **Scikit-Learn Pipelines** handle most of this by taking care of transformations within the pipeline itself. This means you do **not** need to manually apply preprocessing like scaling again—it's done automatically inside the pipeline when you call `predict()`.\n",
    "\n",
    "4. **Deploy to Cloud or a Web Server** (Optional, Advanced):\n",
    "   - Once your script is ready, you can deploy this model to a cloud service or web server.\n",
    "   \n",
    "   - **Flask API for Web Deployment**:\n",
    "     You can create a REST API using Flask to serve your model for real-time predictions.\n",
    "\n",
    "     ```python\n",
    "     from flask import Flask, request, jsonify\n",
    "     import joblib\n",
    "     import numpy as np\n",
    "     import pandas as pd\n",
    "\n",
    "     app = Flask(__name__)\n",
    "\n",
    "     # Load the trained model\n",
    "     model = joblib.load('models/final_iris_pipeline.pkl')\n",
    "\n",
    "     # Define prediction endpoint\n",
    "     @app.route('/predict', methods=['POST'])\n",
    "     def predict():\n",
    "         data = request.get_json()  # Get data from request\n",
    "         input_data = np.array(data['features'])  # Features should be passed as a list\n",
    "\n",
    "         # Convert to DataFrame\n",
    "         input_df = pd.DataFrame(input_data, columns=['sepal_length', 'sepal_width', 'petal_length', 'petal_width'])\n",
    "         \n",
    "         # Get predictions\n",
    "         prediction = model.predict(input_df)\n",
    "         \n",
    "         # Return prediction as JSON\n",
    "         return jsonify({'prediction': int(prediction[0])})\n",
    "\n",
    "     if __name__ == '__main__':\n",
    "         app.run(debug=True)\n",
    "     ```\n",
    "\n",
    "     - In this example, you can send a POST request to the `/predict` endpoint with new feature values in JSON format, and the model will return predictions.\n",
    "     \n",
    "     - **Deployment Platforms**: This Flask app can be deployed to platforms like Heroku, AWS, or Google Cloud for live usage.\n",
    "\n",
    "5. **Monitoring and Maintenance** (Optional):\n",
    "   - **Log Predictions and Errors**: In production, ensure you have logging in place to track model predictions and catch errors.\n",
    "   - **Retrain Model Periodically**: As new data comes in, the model may need to be retrained to ensure it remains effective. You can set up a process to retrain periodically using the new data and update the model version.\n",
    "   "
   ]
  },
  {
   "cell_type": "code",
   "execution_count": 45,
   "id": "a4265f2d",
   "metadata": {},
   "outputs": [
    {
     "name": "stdout",
     "output_type": "stream",
     "text": [
      "Predicted class: [2]\n",
      "Predicted species: Virginica\n"
     ]
    }
   ],
   "source": [
    "# Load the pre-trained pipeline model\n",
    "model = joblib.load('../models/final_iris_kNN_pipeline.pkl')\n",
    "\n",
    "# Dictionary to map class labels to species names\n",
    "species_dict = {0: 'Setosa', 1: 'Versicolor', 2: 'Virginica'}\n",
    "\n",
    "# Function to preprocess new data and predict\n",
    "def predict_new_data(input_data):\n",
    "    # input_data should be a pandas DataFrame or numpy array\n",
    "    # Ensure the input data is in the same format as the training data\n",
    "    # Example: input_data should have the same number of columns as the training features\n",
    "\n",
    "    # Predict using the pipeline (scaling + model inference is done automatically)\n",
    "    prediction = model.predict(input_data)\n",
    "    \n",
    "    # Map the predicted class to the species name\n",
    "    species_name = species_dict[prediction[0]]\n",
    "    \n",
    "    return prediction, species_name\n",
    "\n",
    "# Example of new input data (you can replace this with new data)\n",
    "new_data = np.array([[5.1, 3.5, 1.4, 0.2]])  # Example: Single row of new Iris flower data\n",
    "\n",
    "# Convert to pandas DataFrame if necessary (match column names)\n",
    "new_data_df = pd.DataFrame(new_data, columns=features)\n",
    "\n",
    "# Get the prediction\n",
    "prediction, species_name = predict_new_data(new_data_df)\n",
    "print(f\"Predicted class: {prediction}\")\n",
    "print(f\"Predicted species: {species_name}\")"
   ]
  },
  {
   "cell_type": "markdown",
   "id": "a5cf314d",
   "metadata": {},
   "source": [
    "### **Deployment Recap**\n",
    "\n",
    "1. **Save the pipeline model** (already done).\n",
    "2. **Create a Python script** that loads the model, processes new data, and makes predictions.\n",
    "3. **Deploy to the cloud** with Flask or similar frameworks if required for web or real-time applications.\n",
    "4. **Monitor the model** in production and retrain it when necessary.\n",
    "\n",
    "Let me know if you’d like more details on any of these deployment steps!"
   ]
  },
  {
   "cell_type": "code",
   "execution_count": null,
   "id": "d5e52fcd",
   "metadata": {},
   "outputs": [],
   "source": []
  }
 ],
 "metadata": {
  "kernelspec": {
   "display_name": "Python 3",
   "language": "python",
   "name": "python3"
  },
  "language_info": {
   "codemirror_mode": {
    "name": "ipython",
    "version": 3
   },
   "file_extension": ".py",
   "mimetype": "text/x-python",
   "name": "python",
   "nbconvert_exporter": "python",
   "pygments_lexer": "ipython3",
   "version": "3.6.10"
  }
 },
 "nbformat": 4,
 "nbformat_minor": 5
}
